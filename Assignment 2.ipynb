{
 "cells": [
  {
   "cell_type": "code",
   "execution_count": null,
   "id": "20894670-7607-4426-8fe2-effd2acb9c81",
   "metadata": {},
   "outputs": [],
   "source": [
    "Q1 = Which keyword is used to create function? create a function to return a list of odd numbers in the range of 1 to 25."
   ]
  },
  {
   "cell_type": "code",
   "execution_count": null,
   "id": "44d48c11-59ff-40d2-8638-380f77fdbee8",
   "metadata": {},
   "outputs": [],
   "source": [
    "Def keyword is used to create function"
   ]
  },
  {
   "cell_type": "code",
   "execution_count": 3,
   "id": "769ef16a-1d16-4287-9249-761de4f9ea54",
   "metadata": {},
   "outputs": [
    {
     "name": "stdout",
     "output_type": "stream",
     "text": [
      "[1, 3, 5]\n",
      "[1, 3, 5, 7, 9]\n",
      "[1, 3, 5, 7, 9, 11]\n",
      "[1]\n",
      "[]\n"
     ]
    }
   ],
   "source": [
    "def odd_numbers(n):\n",
    "\treturn [x for x in range(0, n+1) if x%2 != 0]\n",
    "\n",
    "print(odd_numbers(5))  \n",
    "print(odd_numbers(10)) \n",
    "print(odd_numbers(11)) \n",
    "print(odd_numbers(1))  \n",
    "print(odd_numbers(-1)) "
   ]
  },
  {
   "cell_type": "code",
   "execution_count": null,
   "id": "f230db7a-c35a-48df-9921-0519f77800ad",
   "metadata": {},
   "outputs": [],
   "source": [
    "Q2. Why *args and **kwargs is used in some functions? Create a function each for *args and **kwargs\n",
    "to demonstrate their use."
   ]
  },
  {
   "cell_type": "code",
   "execution_count": null,
   "id": "c0f43187-0e73-43dc-af1e-b1d1a90a8397",
   "metadata": {},
   "outputs": [],
   "source": [
    "*args and **kwargs can help us write more flexible interfaces for our modules and functions. *args collects extra positional arguments as a tuple while **kwargs\n",
    "collects extra keyword arguments as dictionary. Actual syntax is * and **."
   ]
  },
  {
   "cell_type": "code",
   "execution_count": 7,
   "id": "ebbea6ec-523e-488e-a1a3-30df75abffd8",
   "metadata": {},
   "outputs": [
    {
     "name": "stdout",
     "output_type": "stream",
     "text": [
      "Hello\n",
      "Welcome\n",
      "to\n",
      "pwskills\n"
     ]
    }
   ],
   "source": [
    "# args\n",
    "def multipleFunction(*argv):  \n",
    "    for eachArg in argv:  \n",
    "        print(eachArg)  \n",
    "  \n",
    "  \n",
    "multipleFunction('Hello', 'Welcome', 'to', 'pwskills')  "
   ]
  },
  {
   "cell_type": "code",
   "execution_count": 10,
   "id": "1521f7ef-051f-4289-8ae1-0c88eb19be42",
   "metadata": {},
   "outputs": [
    {
     "name": "stdout",
     "output_type": "stream",
     "text": [
      "firstArg == pw\n",
      "Second == skills\n",
      "Third == vivek\n"
     ]
    }
   ],
   "source": [
    "# kwargs\n",
    "def multipleFunction(**kwargs):  \n",
    "    for key, value in kwargs.items():  \n",
    "        print(\"%s == %s\" % (key, value))  \n",
    "  \n",
    "  \n",
    "multipleFunction(firstArg='pw', Second='skills', Third='vivek')  "
   ]
  },
  {
   "cell_type": "code",
   "execution_count": null,
   "id": "97c0c2c9-1764-4a31-8a6a-00a9548de35c",
   "metadata": {},
   "outputs": [],
   "source": [
    "Q3. What is an iterator in python? Name the method used to initialise the iterator object and the method\n",
    "used for iteration. Use these methods to print the first five elements of the given list [2, 4, 6, 8, 10, 12, 14,\n",
    "16, 18, 20]."
   ]
  },
  {
   "cell_type": "code",
   "execution_count": null,
   "id": "b1867d21-04b3-42b2-82c3-47ae40d94324",
   "metadata": {},
   "outputs": [],
   "source": [
    "#Ans= \n",
    "An iterator is an object that contains a countable number of values.\n",
    "\n",
    "An iterator is an object that can be iterated upon, meaning that you can traverse through all the values.\n",
    "\n",
    "Technically, in Python, an iterator is an object which implements the iterator protocol, which consist of the methods __iter__() and __next__()."
   ]
  },
  {
   "cell_type": "code",
   "execution_count": 1,
   "id": "75c42d0a-3b54-4246-9058-ed8e91444dcb",
   "metadata": {},
   "outputs": [
    {
     "name": "stdout",
     "output_type": "stream",
     "text": [
      "1\n",
      "4\n",
      "9\n",
      "16\n",
      "25\n"
     ]
    },
    {
     "ename": "StopIteration",
     "evalue": "",
     "output_type": "error",
     "traceback": [
      "\u001b[0;31m---------------------------------------------------------------------------\u001b[0m",
      "\u001b[0;31mStopIteration\u001b[0m                             Traceback (most recent call last)",
      "Cell \u001b[0;32mIn[1], line 21\u001b[0m\n\u001b[1;32m     18\u001b[0m \u001b[38;5;28;01mfor\u001b[39;00m sq \u001b[38;5;129;01min\u001b[39;00m square_num:\n\u001b[1;32m     19\u001b[0m     \u001b[38;5;28mprint\u001b[39m(sq)\n\u001b[0;32m---> 21\u001b[0m \u001b[38;5;28mprint\u001b[39m(\u001b[38;5;28;43mnext\u001b[39;49m\u001b[43m(\u001b[49m\u001b[43msquare_num\u001b[49m\u001b[43m)\u001b[49m)\n",
      "Cell \u001b[0;32mIn[1], line 11\u001b[0m, in \u001b[0;36mSquares.__next__\u001b[0;34m(self)\u001b[0m\n\u001b[1;32m      9\u001b[0m \u001b[38;5;28;01mdef\u001b[39;00m \u001b[38;5;21m__next__\u001b[39m(\u001b[38;5;28mself\u001b[39m):\n\u001b[1;32m     10\u001b[0m     \u001b[38;5;28;01mif\u001b[39;00m \u001b[38;5;28mself\u001b[39m\u001b[38;5;241m.\u001b[39mcurrent \u001b[38;5;241m>\u001b[39m\u001b[38;5;241m=\u001b[39m \u001b[38;5;28mself\u001b[39m\u001b[38;5;241m.\u001b[39mlength:\n\u001b[0;32m---> 11\u001b[0m         \u001b[38;5;28;01mraise\u001b[39;00m \u001b[38;5;167;01mStopIteration\u001b[39;00m\n\u001b[1;32m     13\u001b[0m     \u001b[38;5;28mself\u001b[39m\u001b[38;5;241m.\u001b[39mcurrent \u001b[38;5;241m+\u001b[39m\u001b[38;5;241m=\u001b[39m \u001b[38;5;241m1\u001b[39m\n\u001b[1;32m     14\u001b[0m     \u001b[38;5;28;01mreturn\u001b[39;00m \u001b[38;5;28mself\u001b[39m\u001b[38;5;241m.\u001b[39mcurrent \u001b[38;5;241m*\u001b[39m\u001b[38;5;241m*\u001b[39m \u001b[38;5;241m2\u001b[39m\n",
      "\u001b[0;31mStopIteration\u001b[0m: "
     ]
    }
   ],
   "source": [
    "\n",
    "class Squares:\n",
    "    def __init__(self, length):\n",
    "        self.length = length\n",
    "        self.current = 0\n",
    "\n",
    "    def __iter__(self):\n",
    "        return self\n",
    "\n",
    "    def __next__(self):\n",
    "        if self.current >= self.length:\n",
    "            raise StopIteration\n",
    "\n",
    "        self.current += 1\n",
    "        return self.current ** 2\n",
    "\n",
    "square_num = Squares(5)\n",
    "\n",
    "for sq in square_num:\n",
    "    print(sq)\n",
    "\n",
    "print(next(square_num))\n"
   ]
  },
  {
   "cell_type": "code",
   "execution_count": null,
   "id": "fb1cb02c-70f3-4295-9c59-404807e6e130",
   "metadata": {},
   "outputs": [],
   "source": [
    "Q4. What is a generator function in python? Why yield keyword is used? Give an example of a generator\n",
    "function.\n",
    "\n",
    "# Answer =  Python Generators are the functions that return the traversal object and used to create iterators. It traverses the entire items at once. \n",
    "The generator can also be an expression in which syntax is similar to the list comprehension in Python.\n",
    "\n",
    "There is a lot of complexity in creating iteration in Python; we need to implement __iter__() and __next__() method \n",
    "to keep track of internal states.\n",
    "\n",
    "It is a lengthy process to create iterators.\n",
    "That's why the generator plays an essential role in simplifying this process.\n",
    "\n",
    "If there is no value found in iteration, it raises StopIteration exception.\n",
    "The yield statement is responsible for controlling the flow of the generator function. \n",
    "It pauses the function execution by saving all states and yielded to the caller. \n",
    "Later it resumes execution when a successive function is called. We can use the multiple yield statement in the generator function."
   ]
  },
  {
   "cell_type": "code",
   "execution_count": 2,
   "id": "ce5a5efb-a059-40f8-bffb-262a7813972e",
   "metadata": {},
   "outputs": [
    {
     "name": "stdout",
     "output_type": "stream",
     "text": [
      "1\n",
      "2\n",
      "3\n"
     ]
    }
   ],
   "source": [
    "# A generator function that yields 1 for first time,\n",
    "# 2 second time and 3 third time\n",
    "def simpleGeneratorFun():\n",
    "\tyield 1\t\t\n",
    "\tyield 2\t\t\n",
    "\tyield 3\t\t\n",
    "\n",
    "# Driver code to check above generator function\n",
    "for value in simpleGeneratorFun():\n",
    "\tprint(value)\n"
   ]
  },
  {
   "cell_type": "code",
   "execution_count": null,
   "id": "f9b2a5e4-3cea-45e4-8bf3-c37ca6957c89",
   "metadata": {},
   "outputs": [],
   "source": [
    "Q6. Write a python program to print the first 10 Fibonacci numbers using a while loop."
   ]
  },
  {
   "cell_type": "code",
   "execution_count": 6,
   "id": "d5ae2d43-0a77-4e58-b2cb-e11561dc75ea",
   "metadata": {},
   "outputs": [
    {
     "name": "stdout",
     "output_type": "stream",
     "text": [
      "34\n"
     ]
    }
   ],
   "source": [
    "# Function for nth Fibonacci number\n",
    "\n",
    "def Fibonacci(n):\n",
    "\tif n<= 0:\n",
    "\t\tprint(\"Incorrect input\")\n",
    "\t# First Fibonacci number is 0\n",
    "\telif n == 1:\n",
    "\t\treturn 0\n",
    "\t# Second Fibonacci number is 1\n",
    "\telif n == 2:\n",
    "\t\treturn 1\n",
    "\telse:\n",
    "\t\treturn Fibonacci(n-1)+Fibonacci(n-2)\n",
    "\n",
    "print(Fibonacci(10))\n",
    "\n",
    "\n"
   ]
  },
  {
   "cell_type": "code",
   "execution_count": null,
   "id": "6617ce27-e226-4ec1-bcef-3d6a3b8a6409",
   "metadata": {},
   "outputs": [],
   "source": [
    "Q7. Write a List Comprehension to iterate through the given string: ‘pwskills’.\n",
    "Expected output: ['p', 'w', 's', 'k', 'i', 'l', 'l', 's']"
   ]
  },
  {
   "cell_type": "code",
   "execution_count": 1,
   "id": "546aad17-2f6b-4b6e-982f-307389c8be94",
   "metadata": {},
   "outputs": [
    {
     "name": "stdout",
     "output_type": "stream",
     "text": [
      "['p', 'w', 's', 'k', 'i', 'l', 'l', 's']\n"
     ]
    }
   ],
   "source": [
    "l = [\"pwskills\"]\n",
    "newlist = ['p','w','s','k','i','l','l','s']\n",
    "\n",
    "for x in l:\n",
    "    if \"a\" in x:\n",
    "        newlist.append(x)\n",
    "        \n",
    "print(newlist)        "
   ]
  },
  {
   "cell_type": "code",
   "execution_count": null,
   "id": "6fbeb163-e3c9-489e-9f6e-d1afc51a82a0",
   "metadata": {},
   "outputs": [],
   "source": [
    "Q8. Write a python program to check whether a given number is Palindrome or not using a while loop."
   ]
  },
  {
   "cell_type": "code",
   "execution_count": 4,
   "id": "266ce273-7492-4f12-8e8b-f8e92eee5552",
   "metadata": {},
   "outputs": [
    {
     "name": "stdout",
     "output_type": "stream",
     "text": [
      "Enter a string\n"
     ]
    },
    {
     "name": "stdin",
     "output_type": "stream",
     "text": [
      " vivek\n"
     ]
    },
    {
     "ename": "NameError",
     "evalue": "name 'ispalidrome' is not defined",
     "output_type": "error",
     "traceback": [
      "\u001b[0;31m---------------------------------------------------------------------------\u001b[0m",
      "\u001b[0;31mNameError\u001b[0m                                 Traceback (most recent call last)",
      "Cell \u001b[0;32mIn[4], line 8\u001b[0m\n\u001b[1;32m      6\u001b[0m \u001b[38;5;28mprint\u001b[39m(\u001b[38;5;124m\"\u001b[39m\u001b[38;5;124mEnter a string\u001b[39m\u001b[38;5;124m\"\u001b[39m)\n\u001b[1;32m      7\u001b[0m st\u001b[38;5;241m=\u001b[39m\u001b[38;5;28minput\u001b[39m()\n\u001b[0;32m----> 8\u001b[0m \u001b[38;5;28mprint\u001b[39m(\u001b[43mispalidrome\u001b[49m(st))\n",
      "\u001b[0;31mNameError\u001b[0m: name 'ispalidrome' is not defined"
     ]
    }
   ],
   "source": [
    "def isPalidrome(s):\n",
    "    rev=s[::-1]\n",
    "    if(rev==s):\n",
    "        return True\n",
    "    return False\n",
    "print(\"Enter a string\")\n",
    "st=input()\n",
    "print(ispalidrome(st))"
   ]
  },
  {
   "cell_type": "code",
   "execution_count": null,
   "id": "da3e243a-1442-42b8-9b2d-eaee43846004",
   "metadata": {},
   "outputs": [],
   "source": [
    "Q9. Write a code to print odd numbers from 1 to 100 using list comprehension."
   ]
  },
  {
   "cell_type": "code",
   "execution_count": 6,
   "id": "53cfeeb8-90c7-4205-80c9-8928e5d63536",
   "metadata": {},
   "outputs": [
    {
     "name": "stdout",
     "output_type": "stream",
     "text": [
      "[1, 3, 5]\n",
      "[1, 3, 5, 7, 9]\n",
      "[1, 3, 5, 7, 9, 11]\n",
      "[1]\n",
      "[]\n"
     ]
    }
   ],
   "source": [
    "def odd_numbers(n):\n",
    "\treturn [x for x in range(0, n+1) if x%2 != 0]\n",
    "\n",
    "print(odd_numbers(5))  # Should print [1, 3, 5]\n",
    "print(odd_numbers(10)) # Should print [1, 3, 5, 7, 9]\n",
    "print(odd_numbers(11)) # Should print [1, 3, 5, 7, 9, 11]\n",
    "print(odd_numbers(1))  # Should print [1]\n",
    "print(odd_numbers(-1)) # Should print []"
   ]
  },
  {
   "cell_type": "code",
   "execution_count": null,
   "id": "391fda90-1404-4c46-8e17-5b74598bdb06",
   "metadata": {},
   "outputs": [],
   "source": []
  }
 ],
 "metadata": {
  "kernelspec": {
   "display_name": "Python 3 (ipykernel)",
   "language": "python",
   "name": "python3"
  },
  "language_info": {
   "codemirror_mode": {
    "name": "ipython",
    "version": 3
   },
   "file_extension": ".py",
   "mimetype": "text/x-python",
   "name": "python",
   "nbconvert_exporter": "python",
   "pygments_lexer": "ipython3",
   "version": "3.10.8"
  }
 },
 "nbformat": 4,
 "nbformat_minor": 5
}
